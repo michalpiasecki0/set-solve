{
 "cells": [
  {
   "cell_type": "code",
   "execution_count": 1,
   "metadata": {},
   "outputs": [],
   "source": [
    "# Quick notebook, to process labels for format for torch training"
   ]
  },
  {
   "cell_type": "code",
   "execution_count": 2,
   "metadata": {},
   "outputs": [],
   "source": [
    "import pandas as pd\n",
    "import sys\n",
    "import re\n",
    "\n",
    "from pathlib import Path\n",
    "\n",
    "root_path = Path(\".\").resolve().parent\n",
    "sys.path.append(str(root_path))\n",
    "\n",
    "from src.constants import COLOR_MAPPING, SHAPE_MAPPING, FILLMENT_MAPPING"
   ]
  },
  {
   "cell_type": "code",
   "execution_count": 3,
   "metadata": {},
   "outputs": [],
   "source": [
    "# utils function\n",
    "def extract_substring(s):\n",
    "    # I only want name of img paths\n",
    "    match = re.search(r'[^-/]+$', s)\n",
    "    return match.group(0) if match else None\n"
   ]
  },
  {
   "cell_type": "code",
   "execution_count": 4,
   "metadata": {},
   "outputs": [],
   "source": [
    "# load labels\n",
    "labels_path = Path(\".\").resolve().parent / \"data\" / \"labels.csv\"\n",
    "labels_raw = pd.read_csv(labels_path)"
   ]
  },
  {
   "cell_type": "code",
   "execution_count": 5,
   "metadata": {},
   "outputs": [],
   "source": [
    "# remove rows with any NA value\n",
    "labels_raw.dropna(inplace=True)"
   ]
  },
  {
   "cell_type": "code",
   "execution_count": 6,
   "metadata": {},
   "outputs": [],
   "source": [
    "# select columns + rename \n",
    "columns_selected = ['Color', 'Count', 'Fillment', 'shape', 'image1']\n",
    "labels = labels_raw.loc[:, columns_selected]\n",
    "\n",
    "# extract substring for img_path\n",
    "labels['img_path'] = labels['image1'].apply(extract_substring)\n",
    "labels.drop(columns=['image1'], inplace=True)\n",
    "labels.rename(columns={\"Fillment\": \"Fill\", \"shape\": \"Shape\"}, inplace=True)"
   ]
  },
  {
   "cell_type": "code",
   "execution_count": 7,
   "metadata": {},
   "outputs": [],
   "source": [
    "# MAPPINGS\n",
    "labels['Color'] = labels['Color'].map(COLOR_MAPPING)\n",
    "labels['Shape'] = labels['Shape'].map(SHAPE_MAPPING)\n",
    "labels['Fill'] = labels['Fill'].map(FILLMENT_MAPPING)"
   ]
  },
  {
   "cell_type": "code",
   "execution_count": 9,
   "metadata": {},
   "outputs": [],
   "source": [
    "# save final labels table\n",
    "labels.to_csv(path_or_buf=(root_path / \"data\" / \"labels_final.csv\"), index=False)"
   ]
  }
 ],
 "metadata": {
  "kernelspec": {
   "display_name": "ml-base",
   "language": "python",
   "name": "python3"
  },
  "language_info": {
   "codemirror_mode": {
    "name": "ipython",
    "version": 3
   },
   "file_extension": ".py",
   "mimetype": "text/x-python",
   "name": "python",
   "nbconvert_exporter": "python",
   "pygments_lexer": "ipython3",
   "version": "3.11.11"
  }
 },
 "nbformat": 4,
 "nbformat_minor": 2
}
